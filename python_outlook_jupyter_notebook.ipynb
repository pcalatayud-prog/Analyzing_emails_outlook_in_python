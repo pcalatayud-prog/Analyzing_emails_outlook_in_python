{
 "cells": [
  {
   "cell_type": "markdown",
   "id": "7add9a23",
   "metadata": {},
   "source": [
    "## The aim is to graph a plotbar with the amount of emails in \"Application\" and \"rejected\" folders. These two folder were created by my in my outlook App."
   ]
  },
  {
   "cell_type": "code",
   "execution_count": 29,
   "id": "a6b8a7ae",
   "metadata": {},
   "outputs": [],
   "source": [
    "# Documentation : https://docs.microsoft.com/en-us/office/vba/api/outlook.oldefaultfolders"
   ]
  },
  {
   "cell_type": "code",
   "execution_count": 30,
   "id": "ea697c23",
   "metadata": {},
   "outputs": [],
   "source": [
    "#pip install pywin32"
   ]
  },
  {
   "cell_type": "code",
   "execution_count": 42,
   "id": "87fc7ae5",
   "metadata": {},
   "outputs": [],
   "source": [
    "import numpy as np\n",
    "from scipy import stats\n",
    "import pandas as pd\n",
    "import time\n",
    "#import math\n",
    "#importing packages\n",
    "import seaborn as sns\n",
    "import matplotlib.pyplot as plt"
   ]
  },
  {
   "cell_type": "code",
   "execution_count": 31,
   "id": "c4992bfd",
   "metadata": {},
   "outputs": [],
   "source": [
    "from pathlib import Path"
   ]
  },
  {
   "cell_type": "code",
   "execution_count": 32,
   "id": "4bf4bba3",
   "metadata": {},
   "outputs": [],
   "source": [
    "import win32com.client  #pip install pywin32"
   ]
  },
  {
   "cell_type": "code",
   "execution_count": 33,
   "id": "9c9f8def",
   "metadata": {},
   "outputs": [],
   "source": [
    "# Connect to outlook\n",
    "outlook = win32com.client.Dispatch(\"Outlook.Application\").GetNamespace(\"MAPI\")"
   ]
  },
  {
   "cell_type": "code",
   "execution_count": 130,
   "id": "28f49a24",
   "metadata": {},
   "outputs": [],
   "source": [
    "import time"
   ]
  },
  {
   "cell_type": "code",
   "execution_count": 138,
   "id": "5c141227",
   "metadata": {},
   "outputs": [],
   "source": [
    "# Connect to folder\n",
    "inbox_reject = outlook.Folders(\"pablocalatayudpelayo@gmail.com\").Folders(\"rejected\")\n",
    "messages_rejected = inbox_reject.Items\n",
    "\n",
    "dates_reject=[]\n",
    "\n",
    "messages = inbox_reject.Items\n",
    "\n",
    "for message in messages:\n",
    "    \n",
    "    subject = message.Subject\n",
    "    body = message.body\n",
    "    attachments = message.Attachments\n",
    "    dates_reject.append(message.SentOn.strftime(\"%Y-%m-%d\"))"
   ]
  },
  {
   "cell_type": "code",
   "execution_count": 139,
   "id": "fa84834f",
   "metadata": {},
   "outputs": [],
   "source": [
    "# Connect to folder <Applications>\n",
    "inbox_application = outlook.Folders(\"pablocalatayudpelayo@gmail.com\").Folders(\"Applications\")\n",
    "messages_application = inbox_application.Items\n",
    "dates_application=[]\n",
    "messages = inbox_application.Items\n",
    "for message in messages:\n",
    "    \n",
    "    subject = message.Subject\n",
    "    body = message.body\n",
    "    attachments = message.Attachments\n",
    "    dates_application.append(message.SentOn.strftime(\"%Y-%m-%d\"))"
   ]
  },
  {
   "cell_type": "code",
   "execution_count": 141,
   "id": "9b7de57a",
   "metadata": {},
   "outputs": [
    {
     "name": "stdout",
     "output_type": "stream",
     "text": [
      "Number of emails in Application Folder:  1180\n"
     ]
    }
   ],
   "source": [
    "print(\"Number of emails in Application Folder: \",len(dates_application))"
   ]
  },
  {
   "cell_type": "code",
   "execution_count": 142,
   "id": "b74b1567",
   "metadata": {},
   "outputs": [
    {
     "name": "stdout",
     "output_type": "stream",
     "text": [
      "Number of emails in Rejected Folder:  199\n"
     ]
    }
   ],
   "source": [
    "print(\"Number of emails in Rejected Folder: \",len(dates_reject))"
   ]
  },
  {
   "cell_type": "markdown",
   "id": "5d38bd51",
   "metadata": {},
   "source": [
    "# Create Data Frame - group by"
   ]
  },
  {
   "cell_type": "code",
   "execution_count": 326,
   "id": "32ed8fae",
   "metadata": {},
   "outputs": [],
   "source": [
    "start = \"06-01-2022\"\n",
    "end = \"12-31-2022\"\n",
    "idx = pd.date_range(start, end, freq=\"D\")\n",
    "ts = pd.Series(range(len(idx)), index=idx)"
   ]
  },
  {
   "cell_type": "code",
   "execution_count": 327,
   "id": "ec0e8241",
   "metadata": {},
   "outputs": [],
   "source": [
    "ts = pd.Series(range(len(idx)), index=idx)"
   ]
  },
  {
   "cell_type": "code",
   "execution_count": 328,
   "id": "0a66d4a0",
   "metadata": {},
   "outputs": [
    {
     "data": {
      "text/plain": [
       "DatetimeIndex(['2022-06-01', '2022-06-02', '2022-06-03', '2022-06-04',\n",
       "               '2022-06-05', '2022-06-06', '2022-06-07', '2022-06-08',\n",
       "               '2022-06-09', '2022-06-10',\n",
       "               ...\n",
       "               '2022-12-22', '2022-12-23', '2022-12-24', '2022-12-25',\n",
       "               '2022-12-26', '2022-12-27', '2022-12-28', '2022-12-29',\n",
       "               '2022-12-30', '2022-12-31'],\n",
       "              dtype='datetime64[ns]', length=214, freq='D')"
      ]
     },
     "execution_count": 328,
     "metadata": {},
     "output_type": "execute_result"
    }
   ],
   "source": [
    "ts.index"
   ]
  },
  {
   "cell_type": "code",
   "execution_count": 329,
   "id": "9b234c6a",
   "metadata": {},
   "outputs": [],
   "source": [
    "count_emils = pd.DataFrame(index=ts.index,columns = [\"Applications\",\"Rejections\"])"
   ]
  },
  {
   "cell_type": "code",
   "execution_count": 330,
   "id": "1b2f5904",
   "metadata": {},
   "outputs": [],
   "source": [
    "count_emils[\"Date\"]=count_emils.index"
   ]
  },
  {
   "cell_type": "code",
   "execution_count": 331,
   "id": "6e917347",
   "metadata": {},
   "outputs": [
    {
     "data": {
      "text/html": [
       "<div>\n",
       "<style scoped>\n",
       "    .dataframe tbody tr th:only-of-type {\n",
       "        vertical-align: middle;\n",
       "    }\n",
       "\n",
       "    .dataframe tbody tr th {\n",
       "        vertical-align: top;\n",
       "    }\n",
       "\n",
       "    .dataframe thead th {\n",
       "        text-align: right;\n",
       "    }\n",
       "</style>\n",
       "<table border=\"1\" class=\"dataframe\">\n",
       "  <thead>\n",
       "    <tr style=\"text-align: right;\">\n",
       "      <th></th>\n",
       "      <th>Applications</th>\n",
       "      <th>Rejections</th>\n",
       "      <th>Date</th>\n",
       "    </tr>\n",
       "  </thead>\n",
       "  <tbody>\n",
       "    <tr>\n",
       "      <th>2022-06-01</th>\n",
       "      <td>NaN</td>\n",
       "      <td>NaN</td>\n",
       "      <td>2022-06-01</td>\n",
       "    </tr>\n",
       "    <tr>\n",
       "      <th>2022-06-02</th>\n",
       "      <td>NaN</td>\n",
       "      <td>NaN</td>\n",
       "      <td>2022-06-02</td>\n",
       "    </tr>\n",
       "    <tr>\n",
       "      <th>2022-06-03</th>\n",
       "      <td>NaN</td>\n",
       "      <td>NaN</td>\n",
       "      <td>2022-06-03</td>\n",
       "    </tr>\n",
       "    <tr>\n",
       "      <th>2022-06-04</th>\n",
       "      <td>NaN</td>\n",
       "      <td>NaN</td>\n",
       "      <td>2022-06-04</td>\n",
       "    </tr>\n",
       "    <tr>\n",
       "      <th>2022-06-05</th>\n",
       "      <td>NaN</td>\n",
       "      <td>NaN</td>\n",
       "      <td>2022-06-05</td>\n",
       "    </tr>\n",
       "    <tr>\n",
       "      <th>...</th>\n",
       "      <td>...</td>\n",
       "      <td>...</td>\n",
       "      <td>...</td>\n",
       "    </tr>\n",
       "    <tr>\n",
       "      <th>2022-12-27</th>\n",
       "      <td>NaN</td>\n",
       "      <td>NaN</td>\n",
       "      <td>2022-12-27</td>\n",
       "    </tr>\n",
       "    <tr>\n",
       "      <th>2022-12-28</th>\n",
       "      <td>NaN</td>\n",
       "      <td>NaN</td>\n",
       "      <td>2022-12-28</td>\n",
       "    </tr>\n",
       "    <tr>\n",
       "      <th>2022-12-29</th>\n",
       "      <td>NaN</td>\n",
       "      <td>NaN</td>\n",
       "      <td>2022-12-29</td>\n",
       "    </tr>\n",
       "    <tr>\n",
       "      <th>2022-12-30</th>\n",
       "      <td>NaN</td>\n",
       "      <td>NaN</td>\n",
       "      <td>2022-12-30</td>\n",
       "    </tr>\n",
       "    <tr>\n",
       "      <th>2022-12-31</th>\n",
       "      <td>NaN</td>\n",
       "      <td>NaN</td>\n",
       "      <td>2022-12-31</td>\n",
       "    </tr>\n",
       "  </tbody>\n",
       "</table>\n",
       "<p>214 rows × 3 columns</p>\n",
       "</div>"
      ],
      "text/plain": [
       "           Applications Rejections       Date\n",
       "2022-06-01          NaN        NaN 2022-06-01\n",
       "2022-06-02          NaN        NaN 2022-06-02\n",
       "2022-06-03          NaN        NaN 2022-06-03\n",
       "2022-06-04          NaN        NaN 2022-06-04\n",
       "2022-06-05          NaN        NaN 2022-06-05\n",
       "...                 ...        ...        ...\n",
       "2022-12-27          NaN        NaN 2022-12-27\n",
       "2022-12-28          NaN        NaN 2022-12-28\n",
       "2022-12-29          NaN        NaN 2022-12-29\n",
       "2022-12-30          NaN        NaN 2022-12-30\n",
       "2022-12-31          NaN        NaN 2022-12-31\n",
       "\n",
       "[214 rows x 3 columns]"
      ]
     },
     "execution_count": 331,
     "metadata": {},
     "output_type": "execute_result"
    }
   ],
   "source": [
    "count_emils"
   ]
  },
  {
   "cell_type": "code",
   "execution_count": 332,
   "id": "1c94f293",
   "metadata": {},
   "outputs": [],
   "source": [
    "for i in count_emils.index:\n",
    "    \n",
    "    day = str(i)[0:10]\n",
    "    \n",
    "    app = dates_application.count(day)\n",
    "    rej = dates_reject.count(day)\n",
    "\n",
    "    count_emils.loc[day]=[app,rej,count_emils.loc[day][\"Date\"]]"
   ]
  },
  {
   "cell_type": "code",
   "execution_count": 333,
   "id": "ec0ba859",
   "metadata": {},
   "outputs": [
    {
     "data": {
      "text/html": [
       "<div>\n",
       "<style scoped>\n",
       "    .dataframe tbody tr th:only-of-type {\n",
       "        vertical-align: middle;\n",
       "    }\n",
       "\n",
       "    .dataframe tbody tr th {\n",
       "        vertical-align: top;\n",
       "    }\n",
       "\n",
       "    .dataframe thead th {\n",
       "        text-align: right;\n",
       "    }\n",
       "</style>\n",
       "<table border=\"1\" class=\"dataframe\">\n",
       "  <thead>\n",
       "    <tr style=\"text-align: right;\">\n",
       "      <th></th>\n",
       "      <th>Applications</th>\n",
       "      <th>Rejections</th>\n",
       "      <th>Date</th>\n",
       "    </tr>\n",
       "  </thead>\n",
       "  <tbody>\n",
       "    <tr>\n",
       "      <th>2022-12-29</th>\n",
       "      <td>0</td>\n",
       "      <td>0</td>\n",
       "      <td>2022-12-29</td>\n",
       "    </tr>\n",
       "    <tr>\n",
       "      <th>2022-12-30</th>\n",
       "      <td>0</td>\n",
       "      <td>0</td>\n",
       "      <td>2022-12-30</td>\n",
       "    </tr>\n",
       "    <tr>\n",
       "      <th>2022-12-31</th>\n",
       "      <td>0</td>\n",
       "      <td>0</td>\n",
       "      <td>2022-12-31</td>\n",
       "    </tr>\n",
       "  </tbody>\n",
       "</table>\n",
       "</div>"
      ],
      "text/plain": [
       "           Applications Rejections       Date\n",
       "2022-12-29            0          0 2022-12-29\n",
       "2022-12-30            0          0 2022-12-30\n",
       "2022-12-31            0          0 2022-12-31"
      ]
     },
     "execution_count": 333,
     "metadata": {},
     "output_type": "execute_result"
    }
   ],
   "source": [
    "count_emils.tail(3)"
   ]
  },
  {
   "cell_type": "code",
   "execution_count": 334,
   "id": "8433f168",
   "metadata": {},
   "outputs": [],
   "source": [
    "import numpy as np\n",
    "import matplotlib.pyplot as plt"
   ]
  },
  {
   "cell_type": "code",
   "execution_count": 335,
   "id": "d9b1f98a",
   "metadata": {},
   "outputs": [
    {
     "data": {
      "image/png": "[encoded data removed]",
      "text/plain": [
       "<Figure size 1080x360 with 1 Axes>"
      ]
     },
     "metadata": {
      "needs_background": "light"
     },
     "output_type": "display_data"
    }
   ],
   "source": [
    "# Create bars\n",
    "plt.figure(figsize=(15,5))\n",
    "plt.bar(count_emils.index, count_emils.Applications,color='blue',label=\"Applications\")\n",
    "plt.bar(count_emils.index, -count_emils.Rejections,color='red',label=\"Rejections\")\n",
    "plt.title(\"Applications and rejections per day\")\n",
    "plt.ylabel(\"Amount\")\n",
    "plt.xlabel(\"Dates\")\n",
    "plt.legend(loc = \"upper left\",fontsize=16)\n",
    "plt.show()"
   ]
  },
  {
   "cell_type": "markdown",
   "id": "b1674b09",
   "metadata": {},
   "source": [
    "# Grouping by Weeks"
   ]
  },
  {
   "cell_type": "code",
   "execution_count": 336,
   "id": "7d14ef99",
   "metadata": {},
   "outputs": [
    {
     "data": {
      "text/html": [
       "<div>\n",
       "<style scoped>\n",
       "    .dataframe tbody tr th:only-of-type {\n",
       "        vertical-align: middle;\n",
       "    }\n",
       "\n",
       "    .dataframe tbody tr th {\n",
       "        vertical-align: top;\n",
       "    }\n",
       "\n",
       "    .dataframe thead th {\n",
       "        text-align: right;\n",
       "    }\n",
       "</style>\n",
       "<table border=\"1\" class=\"dataframe\">\n",
       "  <thead>\n",
       "    <tr style=\"text-align: right;\">\n",
       "      <th></th>\n",
       "      <th>Applications</th>\n",
       "      <th>Rejections</th>\n",
       "      <th>Date</th>\n",
       "    </tr>\n",
       "  </thead>\n",
       "  <tbody>\n",
       "    <tr>\n",
       "      <th>2022-06-01</th>\n",
       "      <td>0</td>\n",
       "      <td>0</td>\n",
       "      <td>2022-06-01</td>\n",
       "    </tr>\n",
       "    <tr>\n",
       "      <th>2022-06-02</th>\n",
       "      <td>0</td>\n",
       "      <td>0</td>\n",
       "      <td>2022-06-02</td>\n",
       "    </tr>\n",
       "    <tr>\n",
       "      <th>2022-06-03</th>\n",
       "      <td>0</td>\n",
       "      <td>0</td>\n",
       "      <td>2022-06-03</td>\n",
       "    </tr>\n",
       "  </tbody>\n",
       "</table>\n",
       "</div>"
      ],
      "text/plain": [
       "           Applications Rejections       Date\n",
       "2022-06-01            0          0 2022-06-01\n",
       "2022-06-02            0          0 2022-06-02\n",
       "2022-06-03            0          0 2022-06-03"
      ]
     },
     "execution_count": 336,
     "metadata": {},
     "output_type": "execute_result"
    }
   ],
   "source": [
    "count_emils.head(3)"
   ]
  },
  {
   "cell_type": "code",
   "execution_count": 337,
   "id": "d88417ce",
   "metadata": {},
   "outputs": [],
   "source": [
    "count_emils_groupby_week = count_emils.resample('W', on='Date')['Applications','Rejections'].sum()"
   ]
  },
  {
   "cell_type": "code",
   "execution_count": 338,
   "id": "ffe2cfe4",
   "metadata": {},
   "outputs": [
    {
     "data": {
      "text/html": [
       "<div>\n",
       "<style scoped>\n",
       "    .dataframe tbody tr th:only-of-type {\n",
       "        vertical-align: middle;\n",
       "    }\n",
       "\n",
       "    .dataframe tbody tr th {\n",
       "        vertical-align: top;\n",
       "    }\n",
       "\n",
       "    .dataframe thead th {\n",
       "        text-align: right;\n",
       "    }\n",
       "</style>\n",
       "<table border=\"1\" class=\"dataframe\">\n",
       "  <thead>\n",
       "    <tr style=\"text-align: right;\">\n",
       "      <th></th>\n",
       "      <th>Applications</th>\n",
       "      <th>Rejections</th>\n",
       "    </tr>\n",
       "    <tr>\n",
       "      <th>Date</th>\n",
       "      <th></th>\n",
       "      <th></th>\n",
       "    </tr>\n",
       "  </thead>\n",
       "  <tbody>\n",
       "    <tr>\n",
       "      <th>2022-06-05</th>\n",
       "      <td>0</td>\n",
       "      <td>0</td>\n",
       "    </tr>\n",
       "    <tr>\n",
       "      <th>2022-06-12</th>\n",
       "      <td>0</td>\n",
       "      <td>0</td>\n",
       "    </tr>\n",
       "    <tr>\n",
       "      <th>2022-06-19</th>\n",
       "      <td>0</td>\n",
       "      <td>0</td>\n",
       "    </tr>\n",
       "    <tr>\n",
       "      <th>2022-06-26</th>\n",
       "      <td>1</td>\n",
       "      <td>0</td>\n",
       "    </tr>\n",
       "  </tbody>\n",
       "</table>\n",
       "</div>"
      ],
      "text/plain": [
       "            Applications  Rejections\n",
       "Date                                \n",
       "2022-06-05             0           0\n",
       "2022-06-12             0           0\n",
       "2022-06-19             0           0\n",
       "2022-06-26             1           0"
      ]
     },
     "execution_count": 338,
     "metadata": {},
     "output_type": "execute_result"
    }
   ],
   "source": [
    "count_emils_groupby_week.head(4)"
   ]
  },
  {
   "cell_type": "code",
   "execution_count": 339,
   "id": "31868583",
   "metadata": {
    "scrolled": false
   },
   "outputs": [
    {
     "data": {
      "image/png": "[encoded data removed]",
      "text/plain": [
       "<Figure size 1080x648 with 1 Axes>"
      ]
     },
     "metadata": {
      "needs_background": "light"
     },
     "output_type": "display_data"
    }
   ],
   "source": [
    "plt.figure(figsize=(15,9))\n",
    "plt.bar(count_emils_groupby_week.index, count_emils_groupby_week.Applications,color='blue',label=\"Applications\")\n",
    "plt.bar(count_emils_groupby_week.index, -count_emils_groupby_week.Rejections,color='red',label=\"Rejections\")\n",
    "plt.title(\"Applications and Rejections group by week\")\n",
    "plt.ylabel(\"Amount\")\n",
    "plt.xlabel(\"Dates\")\n",
    "plt.xticks(count_emils_groupby_week.index,rotation = 90)\n",
    "plt.legend(loc = \"upper left\",fontsize=16)\n",
    "plt.show()"
   ]
  },
  {
   "cell_type": "code",
   "execution_count": null,
   "id": "9554d28a",
   "metadata": {},
   "outputs": [],
   "source": []
  },
  {
   "cell_type": "code",
   "execution_count": null,
   "id": "75385973",
   "metadata": {},
   "outputs": [],
   "source": []
  },
  {
   "cell_type": "code",
   "execution_count": null,
   "id": "d440660c",
   "metadata": {},
   "outputs": [],
   "source": []
  },
  {
   "cell_type": "code",
   "execution_count": null,
   "id": "412c2c89",
   "metadata": {},
   "outputs": [],
   "source": []
  },
  {
   "cell_type": "code",
   "execution_count": null,
   "id": "16d72bb6",
   "metadata": {},
   "outputs": [],
   "source": []
  },
  {
   "cell_type": "code",
   "execution_count": null,
   "id": "11f57843",
   "metadata": {},
   "outputs": [],
   "source": []
  },
  {
   "cell_type": "code",
   "execution_count": null,
   "id": "68823a90",
   "metadata": {},
   "outputs": [],
   "source": []
  },
  {
   "cell_type": "code",
   "execution_count": null,
   "id": "5758635c",
   "metadata": {},
   "outputs": [],
   "source": []
  }
 ],
 "metadata": {
  "kernelspec": {
   "display_name": "Python 3 (ipykernel)",
   "language": "python",
   "name": "python3"
  },
  "language_info": {
   "codemirror_mode": {
    "name": "ipython",
    "version": 3
   },
   "file_extension": ".py",
   "mimetype": "text/x-python",
   "name": "python",
   "nbconvert_exporter": "python",
   "pygments_lexer": "ipython3",
   "version": "3.9.7"
  }
 },
 "nbformat": 4,
 "nbformat_minor": 5
}
